{
 "cells": [
  {
   "cell_type": "code",
   "execution_count": 7,
   "metadata": {},
   "outputs": [],
   "source": [
    "import torch\n",
    "import numpy as np\n",
    "import os\n",
    "\n",
    "def nan_to_num(x, replacement = 0):\n",
    "    nan_mask = torch.isnan(x)\n",
    "    x[nan_mask] = replacement\n",
    "    \n"
   ]
  },
  {
   "cell_type": "code",
   "execution_count": 9,
   "metadata": {},
   "outputs": [
    {
     "name": "stdout",
     "output_type": "stream",
     "text": [
      "tensor([5., 6., 7., nan])\n",
      "tensor([5., 6., 7., 0.])\n"
     ]
    }
   ],
   "source": [
    "test = torch.tensor([5, 6, 7, float('nan')])\n",
    "print(test)\n",
    "nan_to_num(test)\n",
    "print(test)"
   ]
  },
  {
   "cell_type": "code",
   "execution_count": 21,
   "metadata": {},
   "outputs": [],
   "source": [
    "root_dir = '/nobackup/users/jrajagop/vids'\n",
    "for direc in os.listdir(root_dir):\n",
    "    if direc[0] != '.':\n",
    "        prosody = np.load(f'{root_dir}/{direc}/{direc}_pros.npy')[2,:]\n",
    "        tot = np.sum(np.isnan(prosody))\n",
    "        if tot != 0:\n",
    "            print(\"NAN\", direc)\n"
   ]
  },
  {
   "cell_type": "code",
   "execution_count": 28,
   "metadata": {},
   "outputs": [
    {
     "name": "stdout",
     "output_type": "stream",
     "text": [
      "[0, 10, 11, 41, 46, 70, 71, 72] [0, 10, 11, 41, 46, 70, 71, 72]\n",
      "0 0\n",
      "10 10\n",
      "11 11\n",
      "41 41\n",
      "46 46\n",
      "70 70\n",
      "71 71\n",
      "72 72\n"
     ]
    }
   ],
   "source": [
    "root_dir = '/nobackup/users/jrajagop/vids'\n",
    "for direc in os.listdir(root_dir):\n",
    "    if direc[0] != '.':\n",
    "        f0, voiced, amp = np.load(f'{root_dir}/{direc}/{direc}_pros.npy')[0,:], np.load(f'{root_dir}/{direc}/{direc}_pros.npy')[1,:], np.load(f'{root_dir}/{direc}/{direc}_pros.npy')[2,:]\n",
    "        voiced_0_locs = np.where(voiced == 0)\n",
    "        f0_nan_locs = np.where(np.isnan(f0) == True)\n",
    "        a = list(voiced_0_locs[0])\n",
    "        b = list(f0_nan_locs[0])\n",
    "        if len(a) != len(b):\n",
    "            print(direc)\n",
    "        for i in range(len(a)):\n",
    "            if a[i] != b[i]:\n",
    "                print(direc)\n",
    "            "
   ]
  },
  {
   "cell_type": "code",
   "execution_count": 2,
   "metadata": {},
   "outputs": [
    {
     "name": "stderr",
     "output_type": "stream",
     "text": [
      "Total: 100%|██████████| 5/5 [00:00<00:00, 2754.70it/s]"
     ]
    },
    {
     "name": "stdout",
     "output_type": "stream",
     "text": [
      "1\n",
      "2\n",
      "3\n",
      "4\n",
      "5\n"
     ]
    },
    {
     "name": "stderr",
     "output_type": "stream",
     "text": [
      "\n"
     ]
    }
   ],
   "source": [
    "from tqdm import tqdm\n",
    "\n",
    "l = [1, 2, 3, 4, 5]\n",
    "b = tqdm(l, desc=\"Total\")\n",
    "for i in b:\n",
    "    print(i)"
   ]
  },
  {
   "cell_type": "code",
   "execution_count": null,
   "metadata": {},
   "outputs": [],
   "source": []
  }
 ],
 "metadata": {
  "kernelspec": {
   "display_name": "Python 3 PowerAI",
   "language": "python",
   "name": "python3"
  },
  "language_info": {
   "codemirror_mode": {
    "name": "ipython",
    "version": 3
   },
   "file_extension": ".py",
   "mimetype": "text/x-python",
   "name": "python",
   "nbconvert_exporter": "python",
   "pygments_lexer": "ipython3",
   "version": "3.7.6"
  }
 },
 "nbformat": 4,
 "nbformat_minor": 4
}
