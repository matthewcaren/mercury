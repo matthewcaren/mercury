{
 "cells": [
  {
   "cell_type": "code",
   "execution_count": 4,
   "metadata": {},
   "outputs": [],
   "source": [
    "import torch\n",
    "import numpy as np\n",
    "import os\n",
    "from tqdm import tqdm\n",
    "\n",
    "def nan_to_num(x, replacement = 0):\n",
    "    nan_mask = torch.isnan(x)\n",
    "    x[nan_mask] = replacement\n",
    "    \n"
   ]
  },
  {
   "cell_type": "code",
   "execution_count": 9,
   "metadata": {},
   "outputs": [
    {
     "name": "stdout",
     "output_type": "stream",
     "text": [
      "tensor([5., 6., 7., nan])\n",
      "tensor([5., 6., 7., 0.])\n"
     ]
    }
   ],
   "source": [
    "test = torch.tensor([5, 6, 7, float('nan')])\n",
    "print(test)\n",
    "nan_to_num(test)\n",
    "print(test)"
   ]
  },
  {
   "cell_type": "code",
   "execution_count": 9,
   "metadata": {},
   "outputs": [
    {
     "name": "stdout",
     "output_type": "stream",
     "text": [
      "0.05489659309387207\n"
     ]
    }
   ],
   "source": [
    "root_dir = '/nobackup/users/jrajagop/vids'\n",
    "import time\n",
    "import os\n",
    "start = time.time()\n",
    "files = os.listdir(root_dir)\n",
    "for direc in files[:20]:\n",
    "    if direc[0] != '.':\n",
    "        prosody = np.load(f'{root_dir}/{direc}/{direc}_frames.npy')\n",
    "print(time.time() - start)\n"
   ]
  },
  {
   "cell_type": "code",
   "execution_count": 6,
   "metadata": {},
   "outputs": [
    {
     "name": "stderr",
     "output_type": "stream",
     "text": [
      "100%|██████████| 19697/19697 [00:28<00:00, 698.35it/s]\n"
     ]
    }
   ],
   "source": [
    "root_dir = '/nobackup/users/jrajagop/vids'\n",
    "for direc in tqdm(os.listdir(root_dir)):\n",
    "    if direc[0] != '.':\n",
    "        f0, voiced, amp = np.load(f'{root_dir}/{direc}/{direc}_pros.npy')[0,:], np.load(f'{root_dir}/{direc}/{direc}_pros.npy')[1,:], np.load(f'{root_dir}/{direc}/{direc}_pros.npy')[2,:]\n",
    "        voiced_0_locs = np.where(voiced == 0)\n",
    "        f0_nan_locs = np.where(np.isnan(f0) == True)\n",
    "        a = list(voiced_0_locs[0])\n",
    "        b = list(f0_nan_locs[0])\n",
    "        if len(a) != len(b):\n",
    "            print(direc)\n",
    "        for i in range(len(a)):\n",
    "            if a[i] != b[i]:\n",
    "                print(direc)\n",
    "            "
   ]
  },
  {
   "cell_type": "code",
   "execution_count": 11,
   "metadata": {},
   "outputs": [
    {
     "ename": "FileNotFoundError",
     "evalue": "[Errno 2] No such file or directory: 'mercuryNet/data/all_windows.npy'",
     "output_type": "error",
     "traceback": [
      "\u001b[0;31m---------------------------------------------------------------------------\u001b[0m",
      "\u001b[0;31mFileNotFoundError\u001b[0m                         Traceback (most recent call last)",
      "\u001b[0;32m<ipython-input-11-726be2b06c72>\u001b[0m in \u001b[0;36m<module>\u001b[0;34m\u001b[0m\n\u001b[0;32m----> 1\u001b[0;31m \u001b[0mnp\u001b[0m\u001b[0;34m.\u001b[0m\u001b[0mload\u001b[0m\u001b[0;34m(\u001b[0m\u001b[0;34m'mercuryNet/data/all_windows.npy'\u001b[0m\u001b[0;34m,\u001b[0m \u001b[0mallow_pickle\u001b[0m\u001b[0;34m=\u001b[0m\u001b[0;32mTrue\u001b[0m\u001b[0;34m)\u001b[0m\u001b[0;34m\u001b[0m\u001b[0;34m\u001b[0m\u001b[0m\n\u001b[0m",
      "\u001b[0;32m/home/software/anaconda3/2019.10_powerai/envs/powerai/lib/python3.7/site-packages/numpy/lib/npyio.py\u001b[0m in \u001b[0;36mload\u001b[0;34m(file, mmap_mode, allow_pickle, fix_imports, encoding)\u001b[0m\n\u001b[1;32m    420\u001b[0m         \u001b[0mown_fid\u001b[0m \u001b[0;34m=\u001b[0m \u001b[0;32mFalse\u001b[0m\u001b[0;34m\u001b[0m\u001b[0;34m\u001b[0m\u001b[0m\n\u001b[1;32m    421\u001b[0m     \u001b[0;32melse\u001b[0m\u001b[0;34m:\u001b[0m\u001b[0;34m\u001b[0m\u001b[0;34m\u001b[0m\u001b[0m\n\u001b[0;32m--> 422\u001b[0;31m         \u001b[0mfid\u001b[0m \u001b[0;34m=\u001b[0m \u001b[0mopen\u001b[0m\u001b[0;34m(\u001b[0m\u001b[0mos_fspath\u001b[0m\u001b[0;34m(\u001b[0m\u001b[0mfile\u001b[0m\u001b[0;34m)\u001b[0m\u001b[0;34m,\u001b[0m \u001b[0;34m\"rb\"\u001b[0m\u001b[0;34m)\u001b[0m\u001b[0;34m\u001b[0m\u001b[0;34m\u001b[0m\u001b[0m\n\u001b[0m\u001b[1;32m    423\u001b[0m         \u001b[0mown_fid\u001b[0m \u001b[0;34m=\u001b[0m \u001b[0;32mTrue\u001b[0m\u001b[0;34m\u001b[0m\u001b[0;34m\u001b[0m\u001b[0m\n\u001b[1;32m    424\u001b[0m \u001b[0;34m\u001b[0m\u001b[0m\n",
      "\u001b[0;31mFileNotFoundError\u001b[0m: [Errno 2] No such file or directory: 'mercuryNet/data/all_windows.npy'"
     ]
    }
   ],
   "source": [
    "np.load('mercuryNet/data/all_windows.npy', allow_pickle=True)"
   ]
  },
  {
   "cell_type": "code",
   "execution_count": 3,
   "metadata": {},
   "outputs": [
    {
     "name": "stdout",
     "output_type": "stream",
     "text": [
      "(732, 3, 5)\n",
      "[[9.28507298e-02 3.27540077e-02 2.88760266e-01 3.80656141e-01\n",
      "  7.21325696e-01]\n",
      " [2.10340247e-01 1.16885252e-01 4.34473488e-01 4.35113171e-01\n",
      "  4.77636665e-01]\n",
      " [3.04093361e+01 1.98084669e+01 6.69226967e+01 7.95851219e+01\n",
      "  3.67417603e+02]]\n"
     ]
    }
   ],
   "source": [
    "import numpy as np\n",
    "data = np.load('../model/results/loss_07_19-54.npy')\n",
    "print(data.shape)\n",
    "import matplotlib.pyplot as plt\n",
    "\n",
    "print(data[, :, :])"
   ]
  },
  {
   "cell_type": "code",
   "execution_count": null,
   "metadata": {},
   "outputs": [],
   "source": []
  }
 ],
 "metadata": {
  "kernelspec": {
   "display_name": "Python 3 PowerAI",
   "language": "python",
   "name": "python3"
  },
  "language_info": {
   "codemirror_mode": {
    "name": "ipython",
    "version": 3
   },
   "file_extension": ".py",
   "mimetype": "text/x-python",
   "name": "python",
   "nbconvert_exporter": "python",
   "pygments_lexer": "ipython3",
   "version": "3.7.6"
  }
 },
 "nbformat": 4,
 "nbformat_minor": 4
}
