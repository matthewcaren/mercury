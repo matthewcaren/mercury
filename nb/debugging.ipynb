{
 "cells": [
  {
   "cell_type": "code",
   "execution_count": 4,
   "metadata": {},
   "outputs": [],
   "source": [
    "import torch\n",
    "import numpy as np\n",
    "import os\n",
    "from tqdm import tqdm\n",
    "\n",
    "def nan_to_num(x, replacement = 0):\n",
    "    nan_mask = torch.isnan(x)\n",
    "    x[nan_mask] = replacement\n",
    "    \n"
   ]
  },
  {
   "cell_type": "code",
   "execution_count": 9,
   "metadata": {},
   "outputs": [
    {
     "name": "stdout",
     "output_type": "stream",
     "text": [
      "tensor([5., 6., 7., nan])\n",
      "tensor([5., 6., 7., 0.])\n"
     ]
    }
   ],
   "source": [
    "test = torch.tensor([5, 6, 7, float('nan')])\n",
    "print(test)\n",
    "nan_to_num(test)\n",
    "print(test)"
   ]
  },
  {
   "cell_type": "code",
   "execution_count": 9,
   "metadata": {},
   "outputs": [
    {
     "name": "stdout",
     "output_type": "stream",
     "text": [
      "0.05489659309387207\n"
     ]
    }
   ],
   "source": [
    "root_dir = '/nobackup/users/jrajagop/vids'\n",
    "import time\n",
    "import os\n",
    "start = time.time()\n",
    "files = os.listdir(root_dir)\n",
    "for direc in files[:20]:\n",
    "    if direc[0] != '.':\n",
    "        prosody = np.load(f'{root_dir}/{direc}/{direc}_frames.npy')\n",
    "print(time.time() - start)\n"
   ]
  },
  {
   "cell_type": "code",
   "execution_count": 6,
   "metadata": {},
   "outputs": [
    {
     "name": "stderr",
     "output_type": "stream",
     "text": [
      "100%|██████████| 19697/19697 [00:28<00:00, 698.35it/s]\n"
     ]
    }
   ],
   "source": [
    "root_dir = '/nobackup/users/jrajagop/vids'\n",
    "for direc in tqdm(os.listdir(root_dir)):\n",
    "    if direc[0] != '.':\n",
    "        f0, voiced, amp = np.load(f'{root_dir}/{direc}/{direc}_pros.npy')[0,:], np.load(f'{root_dir}/{direc}/{direc}_pros.npy')[1,:], np.load(f'{root_dir}/{direc}/{direc}_pros.npy')[2,:]\n",
    "        voiced_0_locs = np.where(voiced == 0)\n",
    "        f0_nan_locs = np.where(np.isnan(f0) == True)\n",
    "        a = list(voiced_0_locs[0])\n",
    "        b = list(f0_nan_locs[0])\n",
    "        if len(a) != len(b):\n",
    "            print(direc)\n",
    "        for i in range(len(a)):\n",
    "            if a[i] != b[i]:\n",
    "                print(direc)\n",
    "            "
   ]
  },
  {
   "cell_type": "code",
   "execution_count": 11,
   "metadata": {},
   "outputs": [
    {
     "ename": "FileNotFoundError",
     "evalue": "[Errno 2] No such file or directory: 'mercuryNet/data/all_windows.npy'",
     "output_type": "error",
     "traceback": [
      "\u001b[0;31m---------------------------------------------------------------------------\u001b[0m",
      "\u001b[0;31mFileNotFoundError\u001b[0m                         Traceback (most recent call last)",
      "\u001b[0;32m<ipython-input-11-726be2b06c72>\u001b[0m in \u001b[0;36m<module>\u001b[0;34m\u001b[0m\n\u001b[0;32m----> 1\u001b[0;31m \u001b[0mnp\u001b[0m\u001b[0;34m.\u001b[0m\u001b[0mload\u001b[0m\u001b[0;34m(\u001b[0m\u001b[0;34m'mercuryNet/data/all_windows.npy'\u001b[0m\u001b[0;34m,\u001b[0m \u001b[0mallow_pickle\u001b[0m\u001b[0;34m=\u001b[0m\u001b[0;32mTrue\u001b[0m\u001b[0;34m)\u001b[0m\u001b[0;34m\u001b[0m\u001b[0;34m\u001b[0m\u001b[0m\n\u001b[0m",
      "\u001b[0;32m/home/software/anaconda3/2019.10_powerai/envs/powerai/lib/python3.7/site-packages/numpy/lib/npyio.py\u001b[0m in \u001b[0;36mload\u001b[0;34m(file, mmap_mode, allow_pickle, fix_imports, encoding)\u001b[0m\n\u001b[1;32m    420\u001b[0m         \u001b[0mown_fid\u001b[0m \u001b[0;34m=\u001b[0m \u001b[0;32mFalse\u001b[0m\u001b[0;34m\u001b[0m\u001b[0;34m\u001b[0m\u001b[0m\n\u001b[1;32m    421\u001b[0m     \u001b[0;32melse\u001b[0m\u001b[0;34m:\u001b[0m\u001b[0;34m\u001b[0m\u001b[0;34m\u001b[0m\u001b[0m\n\u001b[0;32m--> 422\u001b[0;31m         \u001b[0mfid\u001b[0m \u001b[0;34m=\u001b[0m \u001b[0mopen\u001b[0m\u001b[0;34m(\u001b[0m\u001b[0mos_fspath\u001b[0m\u001b[0;34m(\u001b[0m\u001b[0mfile\u001b[0m\u001b[0;34m)\u001b[0m\u001b[0;34m,\u001b[0m \u001b[0;34m\"rb\"\u001b[0m\u001b[0;34m)\u001b[0m\u001b[0;34m\u001b[0m\u001b[0;34m\u001b[0m\u001b[0m\n\u001b[0m\u001b[1;32m    423\u001b[0m         \u001b[0mown_fid\u001b[0m \u001b[0;34m=\u001b[0m \u001b[0;32mTrue\u001b[0m\u001b[0;34m\u001b[0m\u001b[0;34m\u001b[0m\u001b[0m\n\u001b[1;32m    424\u001b[0m \u001b[0;34m\u001b[0m\u001b[0m\n",
      "\u001b[0;31mFileNotFoundError\u001b[0m: [Errno 2] No such file or directory: 'mercuryNet/data/all_windows.npy'"
     ]
    }
   ],
   "source": [
    "np.load('mercuryNet/data/all_windows.npy', allow_pickle=True)"
   ]
  },
  {
   "cell_type": "code",
   "execution_count": 3,
   "metadata": {},
   "outputs": [
    {
     "name": "stdout",
     "output_type": "stream",
     "text": [
      "(732, 3, 5)\n",
      "[[9.28507298e-02 3.27540077e-02 2.88760266e-01 3.80656141e-01\n",
      "  7.21325696e-01]\n",
      " [2.10340247e-01 1.16885252e-01 4.34473488e-01 4.35113171e-01\n",
      "  4.77636665e-01]\n",
      " [3.04093361e+01 1.98084669e+01 6.69226967e+01 7.95851219e+01\n",
      "  3.67417603e+02]]\n"
     ]
    }
   ],
   "source": [
    "import numpy as np\n",
    "data = np.load('../model/results/loss_07_19-54.npy')\n",
    "print(data.shape)\n",
    "import matplotlib.pyplot as plt\n",
    "\n",
    "print(data[, :, :])"
   ]
  },
  {
   "cell_type": "code",
   "execution_count": 37,
   "metadata": {},
   "outputs": [
    {
     "name": "stdout",
     "output_type": "stream",
     "text": [
      "[175.11872864 164.33805847 160.58457947 158.7401123  156.91682434\n",
      " 157.82583618 158.7401123  159.65968323 165.29006958 166.24757385\n",
      " 165.29006958 160.58457947 156.91682434          nan          nan\n",
      "          nan          nan          nan          nan          nan\n",
      "          nan          nan          nan          nan          nan\n",
      "          nan          nan 162.45048523 160.58457947 157.82583618\n",
      " 132.71517944 128.19441223 127.45606232 125.99210358          nan\n",
      "          nan          nan          nan          nan 142.24060059\n",
      " 135.0349884  132.71517944 126.7219696  122.40535736 120.30250549\n",
      " 119.60961151 118.23577881 117.55479431 111.59971619 107.17734528\n",
      "          nan          nan          nan          nan          nan\n",
      "          nan          nan 225.7928772  224.49241638 208.25242615\n",
      " 210.67221069 210.67221069 188.77485657 181.29426575          nan\n",
      "          nan 506.88787842 512.77764893 492.45776367 478.43844604\n",
      " 470.21917725 470.21917725 472.94311523 483.99765015 486.8013916\n",
      " 486.8013916  478.43844604 478.43844604 478.43844604 483.99765015\n",
      " 498.17984009          nan          nan          nan          nan\n",
      "          nan          nan          nan          nan          nan] [14.71574783 17.22653198 17.5281105  17.33670044 17.08643913 17.1702919\n",
      " 16.87423515 16.58124542 16.18220901 15.56884766 15.23468018 14.92315674\n",
      " 15.25917625 14.9529438  14.82331467 14.72818565 14.44637585 14.34235477\n",
      " 13.99298382 13.65350819 13.11770535 12.8217001  12.14859581 11.79350662\n",
      " 11.6035099  11.19451046 10.78262138 10.90541744 11.26180649 11.55718517\n",
      " 11.88317204 12.07493782 12.01326847 11.77151871 11.59525299 11.39789009\n",
      " 11.28861427 10.96315765 10.87135124 10.63395596 10.82369518 10.63217735\n",
      " 10.31521034 10.54337311 10.50134563 10.75842953 10.57656097 10.15824223\n",
      " 10.02484512  9.81668568  9.98896217  9.99698448  9.79221916  9.65226936\n",
      "  9.27650356  8.60536194  8.03471661  7.43368626  6.70654678  6.22137499\n",
      "  5.72722006  5.75211525  5.70598984  5.63218546  5.53532028  5.52580357\n",
      "  5.68013811  5.83765221  6.03954458  6.08830023  6.22533989  6.1474452\n",
      "  5.96209764  5.96237755  6.07047367  6.29012489  6.2914319   6.14799929\n",
      "  6.3756485   6.4054594   6.33378601  6.27550983  6.33847904  6.31423426\n",
      "  6.16258049  6.32878208  6.17345333  5.96472502  4.79054403  3.08433676]\n"
     ]
    }
   ],
   "source": [
    "import numpy as np\n",
    "data = np.load('targ.npy')\n",
    "data2 = np.load('model_out.npy')\n",
    "print(data[50], data2[50])"
   ]
  },
  {
   "cell_type": "code",
   "execution_count": 38,
   "metadata": {},
   "outputs": [
    {
     "data": {
      "text/plain": [
       "[<matplotlib.lines.Line2D at 0x20002e410150>]"
      ]
     },
     "execution_count": 38,
     "metadata": {},
     "output_type": "execute_result"
    },
    {
     "data": {
      "image/png": "[encoded data removed]",
      "text/plain": [
       "<Figure size 432x288 with 1 Axes>"
      ]
     },
     "metadata": {
      "needs_background": "light"
     },
     "output_type": "display_data"
    }
   ],
   "source": [
    "import matplotlib.pyplot as plt\n",
    "plt.plot(data[20])\n",
    "plt.plot(data2[20])"
   ]
  },
  {
   "cell_type": "code",
   "execution_count": null,
   "metadata": {},
   "outputs": [],
   "source": []
  }
 ],
 "metadata": {
  "kernelspec": {
   "display_name": "Python 3 PowerAI",
   "language": "python",
   "name": "python3"
  },
  "language_info": {
   "codemirror_mode": {
    "name": "ipython",
    "version": 3
   },
   "file_extension": ".py",
   "mimetype": "text/x-python",
   "name": "python",
   "nbconvert_exporter": "python",
   "pygments_lexer": "ipython3",
   "version": "3.7.6"
  }
 },
 "nbformat": 4,
 "nbformat_minor": 4
}
